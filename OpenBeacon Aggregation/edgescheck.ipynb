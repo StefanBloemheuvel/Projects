{
 "cells": [
  {
   "cell_type": "code",
   "execution_count": 13,
   "metadata": {},
   "outputs": [
    {
     "name": "stdout",
     "output_type": "stream",
     "text": [
      "31793\n",
      "11218\n",
      "11121\n",
      "11015\n",
      "10892\n",
      "10773\n",
      "10679\n",
      "10563\n",
      "10448\n",
      "10356\n",
      "10277\n",
      "10229\n",
      "10154\n",
      "10092\n",
      "10019\n",
      "9930\n",
      "9887\n",
      "9853\n",
      "9789\n"
     ]
    }
   ],
   "source": [
    "import pandas as pd\n",
    "df = pd.read_csv('/Users/stefan/Google Drive/publicatie/experiment1merged.csv')\n",
    "print(len(df))\n",
    "criteria = df['rssi'] >= -85\n",
    "anothercheck = df[criteria]\n",
    "df = anothercheck\n",
    "print(len(df))\n",
    "\n",
    "\n",
    "df.drop(df.loc[df['tag_them']=='0x68C188B3'].index, inplace=True)\n",
    "print(len(df))\n",
    "df.drop(df.loc[df['tag_them']=='0x28894773'].index, inplace=True)\n",
    "print(len(df))\n",
    "df.drop(df.loc[df['tag_them']=='0x3CA4D985'].index, inplace=True)\n",
    "print(len(df))\n",
    "df.drop(df.loc[df['tag_them']=='0x7CD39A42'].index, inplace=True)\n",
    "print(len(df))\n",
    "df.drop(df.loc[df['tag_them']=='0x79D0869B'].index, inplace=True)\n",
    "print(len(df))\n",
    "df.drop(df.loc[df['tag_them']=='0x34FF6AD3'].index, inplace=True)\n",
    "print(len(df))\n",
    "df.drop(df.loc[df['tag_them']=='0x411FEB25'].index, inplace=True)\n",
    "print(len(df))\n",
    "df.drop(df.loc[df['tag_them']=='0x326D5907'].index, inplace=True)\n",
    "print(len(df))\n",
    "df.drop(df.loc[df['tag_them']=='0x3A8A547E'].index, inplace=True)\n",
    "print(len(df))\n",
    "df.drop(df.loc[df['tag_them']=='0x204A52FD'].index, inplace=True)\n",
    "print(len(df))\n",
    "df.drop(df.loc[df['tag_them']=='0x6CEB11F5'].index, inplace=True)\n",
    "print(len(df))\n",
    "df.drop(df.loc[df['tag_them']=='0x0A3DCACB'].index, inplace=True)\n",
    "print(len(df))\n",
    "df.drop(df.loc[df['tag_them']=='0x19DB58DF'].index, inplace=True)\n",
    "print(len(df))\n",
    "df.drop(df.loc[df['tag_them']=='0x618896AE'].index, inplace=True)\n",
    "print(len(df))\n",
    "\n",
    "df.drop(df.loc[df['tag_them']=='0x31A71692'].index, inplace=True)\n",
    "print(len(df))\n",
    "df.drop(df.loc[df['tag_them']=='0x2C9AD7F4'].index, inplace=True)\n",
    "print(len(df))\n",
    "df.drop(df.loc[df['tag_them']=='0x345E3277'].index, inplace=True)\n",
    "print(len(df))\n",
    "\n",
    "\n",
    "#df.to_csv('/Users/stefan/PublicatieV2/nodeschecked1.csv',index=None)"
   ]
  },
  {
   "cell_type": "code",
   "execution_count": 15,
   "metadata": {},
   "outputs": [
    {
     "name": "stdout",
     "output_type": "stream",
     "text": [
      "43079\n",
      "15604\n"
     ]
    }
   ],
   "source": [
    "import pandas as pd\n",
    "df2 = pd.read_csv('/Users/stefan/Google Drive/publicatie/experiment2merged.csv')\n",
    "print(len(df2))\n",
    "criteria2 = df2['rssi'] >= -85\n",
    "anothercheck2 = df2[criteria2]\n",
    "df2 = anothercheck2\n",
    "print(len(df2))\n",
    "\n",
    "df2.to_csv('/Users/stefan/Google Drive/publicatie/checked2.csv',index=None)"
   ]
  }
 ],
 "metadata": {
  "kernelspec": {
   "display_name": "Python 3",
   "language": "python",
   "name": "python3"
  },
  "language_info": {
   "codemirror_mode": {
    "name": "ipython",
    "version": 3
   },
   "file_extension": ".py",
   "mimetype": "text/x-python",
   "name": "python",
   "nbconvert_exporter": "python",
   "pygments_lexer": "ipython3",
   "version": "3.7.0"
  }
 },
 "nbformat": 4,
 "nbformat_minor": 2
}
